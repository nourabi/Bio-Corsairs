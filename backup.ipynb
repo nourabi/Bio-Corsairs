{
 "cells": [
  {
   "cell_type": "code",
   "execution_count": 46,
   "metadata": {
    "colab": {
     "base_uri": "https://localhost:8080/"
    },
    "id": "Xf6_oMFZInZj",
    "outputId": "01aad12a-9775-45d5-d9b2-d36676977e83"
   },
   "outputs": [],
   "source": [
    "#!/usr/bin/env python\n",
    "# -*- coding: utf-8 -*-\n",
    "\"\"\"Pharmahacks - Phyla Challenge #2\"\"\"\n",
    "\n",
    "import pandas as pd\n",
    "from sklearn.model_selection import train_test_split\n",
    "from sklearn.ensemble import RandomForestClassifier\n",
    "from sklearn import metrics\n",
    "import seaborn as sn\n",
    "import matplotlib.pyplot as plt"
   ]
  },
  {
   "cell_type": "code",
   "execution_count": 47,
   "metadata": {
    "colab": {
     "base_uri": "https://localhost:8080/"
    },
    "id": "aoeJOQ7OIr5G",
    "outputId": "92ba043a-dbec-404f-f8e4-2a3eafc3e376"
   },
   "outputs": [
    {
     "name": "stdout",
     "output_type": "stream",
     "text": [
      "          Bacteria-1  Bacteria-2  Bacteria-3  Bacteria-4  Bacteria-5  \\\n",
      "Sample-1         0.0         0.0         0.0         0.0         0.0   \n",
      "Sample-2         0.0         0.0         0.0         0.0         0.0   \n",
      "Sample-3         0.0        10.0         0.0         0.0         0.0   \n",
      "Sample-4         0.0        17.0         0.0         0.0         0.0   \n",
      "Sample-5         0.0         8.0         0.0         0.0         0.0   \n",
      "\n",
      "          Bacteria-6  Bacteria-7  Bacteria-8  Bacteria-9  Bacteria-10  ...  \\\n",
      "Sample-1         0.0         0.0         0.0         0.0          0.0  ...   \n",
      "Sample-2         0.0         0.0         0.0         0.0          0.0  ...   \n",
      "Sample-3         0.0         0.0         0.0         0.0          0.0  ...   \n",
      "Sample-4         0.0         0.0         0.0         0.0          0.0  ...   \n",
      "Sample-5         0.0         0.0         0.0         0.0          0.0  ...   \n",
      "\n",
      "          Bacteria-1086  Bacteria-1087  Bacteria-1088  Bacteria-1089  \\\n",
      "Sample-1            0.0            0.0            0.0            0.0   \n",
      "Sample-2            0.0        17111.0            0.0            0.0   \n",
      "Sample-3            0.0          214.0            0.0            0.0   \n",
      "Sample-4            0.0            0.0            0.0            0.0   \n",
      "Sample-5            0.0         1932.0            0.0            0.0   \n",
      "\n",
      "          Bacteria-1090  Bacteria-1091  Bacteria-1092  Bacteria-1093  \\\n",
      "Sample-1            0.0            0.0            0.0            0.0   \n",
      "Sample-2            0.0            0.0            0.0            0.0   \n",
      "Sample-3            0.0            0.0            0.0            0.0   \n",
      "Sample-4            0.0            0.0            0.0            0.0   \n",
      "Sample-5            0.0            0.0            0.0            3.0   \n",
      "\n",
      "          Bacteria-1094    disease  \n",
      "Sample-1            0.0  Disease-2  \n",
      "Sample-2            0.0  Disease-2  \n",
      "Sample-3            0.0  Disease-2  \n",
      "Sample-4            0.0  Disease-2  \n",
      "Sample-5            0.0  Disease-2  \n",
      "\n",
      "[5 rows x 1095 columns]\n"
     ]
    }
   ],
   "source": [
    "df = pd.read_csv('challenge_1_gut_microbiome_data.csv', index_col=0)\n",
    "print(df.head(5))"
   ]
  },
  {
   "cell_type": "code",
   "execution_count": 48,
   "metadata": {},
   "outputs": [],
   "source": [
    "X = df.filter(regex=(\"Bacteria-*\"))\n",
    "Y = df['disease']"
   ]
  },
  {
   "cell_type": "code",
   "execution_count": 160,
   "metadata": {},
   "outputs": [],
   "source": [
    "X_train, X_test, Y_train, Y_test = train_test_split(\n",
    "    X, Y, test_size=0.25, random_state=0)"
   ]
  },
  {
   "cell_type": "code",
   "execution_count": 161,
   "metadata": {},
   "outputs": [],
   "source": [
    "clf = RandomForestClassifier(n_estimators=100)\n",
    "clf.fit(X_train, Y_train)\n",
    "Y_pred = clf.predict(X_test)"
   ]
  },
  {
   "cell_type": "code",
   "execution_count": 162,
   "metadata": {},
   "outputs": [
    {
     "data": {
      "text/plain": [
       "<AxesSubplot:xlabel='Predicted', ylabel='Actual'>"
      ]
     },
     "execution_count": 162,
     "metadata": {},
     "output_type": "execute_result"
    },
    {
     "data": {
      "image/png": "[encoded data removed]",
      "text/plain": [
       "<Figure size 432x288 with 2 Axes>"
      ]
     },
     "metadata": {
      "needs_background": "light"
     },
     "output_type": "display_data"
    }
   ],
   "source": [
    "confusion_matrix = pd.crosstab(Y_test, Y_pred, rownames=[\n",
    "                               'Actual'], colnames=['Predicted'])\n",
    "sn.heatmap(confusion_matrix, annot=True)"
   ]
  },
  {
   "cell_type": "code",
   "execution_count": 9,
   "metadata": {},
   "outputs": [
    {
     "name": "stdout",
     "output_type": "stream",
     "text": [
      "F1 Score - Micro:  0.7888829502939605\n",
      "F1 Score - Macro:  0.6092643971812871\n",
      "F1 Score - Weighted:  0.7535328039740695\n"
     ]
    }
   ],
   "source": [
    "print('F1 Score - Micro: ', metrics.accuracy_score(Y_test, Y_pred))\n",
    "print('F1 Score - Macro: ', metrics.f1_score(Y_test, Y_pred, average='macro'))\n",
    "print('F1 Score - Weighted: ', metrics.f1_score(Y_test, Y_pred, average='weighted'))"
   ]
  },
  {
   "cell_type": "code",
   "execution_count": null,
   "metadata": {},
   "outputs": [],
   "source": [
    "#print('F1 Score - Micro: ', metrics.cohen_kappa_score(Y_test, Y_pred))"
   ]
  },
  {
   "cell_type": "code",
   "execution_count": 11,
   "metadata": {},
   "outputs": [
    {
     "name": "stdout",
     "output_type": "stream",
     "text": [
      "Sample-5024      Healthy\n",
      "Sample-2976    Disease-3\n",
      "Sample-40      Disease-2\n",
      "Sample-3862      Healthy\n",
      "Sample-4761      Healthy\n",
      "                 ...    \n",
      "Sample-4758      Healthy\n",
      "Sample-416     Disease-2\n",
      "Sample-4175      Healthy\n",
      "Sample-5207      Healthy\n",
      "Sample-1594    Disease-1\n",
      "Name: disease, Length: 1871, dtype: object\n",
      "['Healthy' 'Disease-3' 'Healthy' ... 'Healthy' 'Healthy' 'Disease-1']\n",
      "[[0.07 0.08 0.11 0.74]\n",
      " [0.23 0.03 0.62 0.12]\n",
      " [0.02 0.15 0.08 0.75]\n",
      " ...\n",
      " [0.1  0.21 0.06 0.63]\n",
      " [0.09 0.23 0.12 0.56]\n",
      " [0.98 0.   0.01 0.01]]\n"
     ]
    }
   ],
   "source": [
    "# Actual disease\n",
    "print(Y_test)\n",
    "# Prediction\n",
    "print(Y_pred)\n",
    "Y_proba = clf.predict_proba(X_test)\n",
    "# Probability\n",
    "print(Y_proba)"
   ]
  },
  {
   "cell_type": "code",
   "execution_count": 26,
   "metadata": {},
   "outputs": [
    {
     "name": "stdout",
     "output_type": "stream",
     "text": [
      "['Disease-1']\n"
     ]
    }
   ],
   "source": [
    "# Sample 3602 - Disease-1\n",
    "sample = X.loc[[\"Sample-3602\"]]\n",
    "sample_predict = clf.predict(sample)\n",
    "print(sample_predict)"
   ]
  },
  {
   "cell_type": "code",
   "execution_count": 58,
   "metadata": {},
   "outputs": [
    {
     "name": "stdout",
     "output_type": "stream",
     "text": [
      "4729305\n"
     ]
    }
   ],
   "source": [
    "df2 = df.loc[(df['disease'] == 'Disease-2') | (df['disease'] == 'Healthy')]\n",
    "X2 = df2.filter(regex=(\"Bacteria-*\"))\n",
    "Y2 = df2['disease']"
   ]
  },
  {
   "cell_type": "code",
   "execution_count": 163,
   "metadata": {},
   "outputs": [],
   "source": [
    "X2_train, X2_test, Y2_train, Y2_test = train_test_split(\n",
    "    X2, Y2, test_size=0.25, random_state=0)"
   ]
  },
  {
   "cell_type": "code",
   "execution_count": 164,
   "metadata": {},
   "outputs": [],
   "source": [
    "clf2 = RandomForestClassifier(n_estimators=1000)\n",
    "clf2.fit(X2_train, Y2_train)\n",
    "Y2_pred = clf.predict(X2_test)"
   ]
  },
  {
   "cell_type": "code",
   "execution_count": 165,
   "metadata": {},
   "outputs": [
    {
     "data": {
      "text/plain": [
       "<AxesSubplot:xlabel='Predicted', ylabel='Actual'>"
      ]
     },
     "execution_count": 165,
     "metadata": {},
     "output_type": "execute_result"
    },
    {
     "data": {
      "image/png": "[encoded data removed]",
      "text/plain": [
       "<Figure size 432x288 with 2 Axes>"
      ]
     },
     "metadata": {
      "needs_background": "light"
     },
     "output_type": "display_data"
    }
   ],
   "source": [
    "confusion_matrix2 = pd.crosstab(Y2_test, Y2_pred, rownames=[\n",
    "                               'Actual'], colnames=['Predicted'])\n",
    "sn.heatmap(confusion_matrix2, annot=True)"
   ]
  },
  {
   "cell_type": "code",
   "execution_count": 166,
   "metadata": {},
   "outputs": [
    {
     "name": "stdout",
     "output_type": "stream",
     "text": [
      "Sample-4981      Healthy\n",
      "Sample-5789      Healthy\n",
      "Sample-6706      Healthy\n",
      "Sample-902     Disease-2\n",
      "Sample-6632      Healthy\n",
      "                 ...    \n",
      "Sample-6923      Healthy\n",
      "Sample-5204      Healthy\n",
      "Sample-653     Disease-2\n",
      "Sample-7179      Healthy\n",
      "Sample-5947      Healthy\n",
      "Name: disease, Length: 1080, dtype: object\n"
     ]
    }
   ],
   "source": [
    "# Replace values of first table with values 2nd table\n",
    "print(Y2_test)"
   ]
  },
  {
   "cell_type": "code",
   "execution_count": 167,
   "metadata": {},
   "outputs": [],
   "source": [
    "Y2df = pd.DataFrame(Y2_pred)\n",
    "Y2df.index = Y2_test.index.values\n",
    "Y2df = Y2df.rename(columns = {0:\"disease\"})"
   ]
  },
  {
   "cell_type": "code",
   "execution_count": 168,
   "metadata": {},
   "outputs": [
    {
     "name": "stdout",
     "output_type": "stream",
     "text": [
      "               disease\n",
      "Sample-4981    Healthy\n",
      "Sample-5789    Healthy\n",
      "Sample-6706    Healthy\n",
      "Sample-902   Disease-2\n",
      "Sample-6632    Healthy\n",
      "...                ...\n",
      "Sample-6923    Healthy\n",
      "Sample-5204    Healthy\n",
      "Sample-653   Disease-2\n",
      "Sample-7179    Healthy\n",
      "Sample-5947    Healthy\n",
      "\n",
      "[1080 rows x 1 columns]\n"
     ]
    }
   ],
   "source": [
    "print(Y2df)"
   ]
  },
  {
   "cell_type": "code",
   "execution_count": 191,
   "metadata": {},
   "outputs": [
    {
     "name": "stdout",
     "output_type": "stream",
     "text": [
      "disease    Healthy\n",
      "Name: Sample-5024, dtype: object\n"
     ]
    }
   ],
   "source": [
    "Ydf = pd.DataFrame(Y_pred)\n",
    "Ydf.index = Y_test.index.values\n",
    "Ydf = Ydf.rename(columns = {0:\"disease\"})\n",
    "#print(Ydf.loc[\"Sample-5024\"])"
   ]
  },
  {
   "cell_type": "code",
   "execution_count": 186,
   "metadata": {},
   "outputs": [
    {
     "name": "stdout",
     "output_type": "stream",
     "text": [
      "              disease\n",
      "Sample-902  Disease-2\n",
      "Sample-436  Disease-2\n",
      "Sample-888  Disease-2\n",
      "Sample-222  Disease-2\n",
      "Sample-900  Disease-2\n",
      "...               ...\n",
      "Sample-268  Disease-2\n",
      "Sample-907  Disease-2\n",
      "Sample-193  Disease-2\n",
      "Sample-230  Disease-2\n",
      "Sample-653  Disease-2\n",
      "\n",
      "[108 rows x 1 columns]\n"
     ]
    }
   ],
   "source": [
    "print(Y2df.loc[(Y2df['disease'] == 'Disease-2')])\n",
    "#print(Ydf.loc[\"Sample-902\"])"
   ]
  },
  {
   "cell_type": "code",
   "execution_count": 194,
   "metadata": {},
   "outputs": [
    {
     "name": "stdout",
     "output_type": "stream",
     "text": [
      "1871\n",
      "2951\n",
      "1871\n",
      "disease    Healthy\n",
      "Name: Sample-5024, dtype: object\n"
     ]
    }
   ],
   "source": [
    "combined_df = Y2df.append(Ydf, ignore_index=False)\n",
    "#print(bigdata.loc[(bigdata['disease'] == 'Disease-2')])\n",
    "#print(bigdata.size)\n",
    "#combined_df['disease'].tolist()\n",
    "print(Y_test.size)\n",
    "print(combined_df.size)\n",
    "#print(combined_df.loc[\"Sample-674\"])\n",
    "#print(Y_test.loc[\"Sample-3167\"])\n",
    "print(Y_pred.size)\n",
    "print(combined_df.loc[\"Sample-5024\"])"
   ]
  },
  {
   "cell_type": "code",
   "execution_count": 142,
   "metadata": {},
   "outputs": [
    {
     "ename": "AssertionError",
     "evalue": "arrays and names must have the same length",
     "output_type": "error",
     "traceback": [
      "\u001b[0;31m---------------------------------------------------------------------------\u001b[0m",
      "\u001b[0;31mAssertionError\u001b[0m                            Traceback (most recent call last)",
      "Input \u001b[0;32mIn [142]\u001b[0m, in \u001b[0;36m<cell line: 1>\u001b[0;34m()\u001b[0m\n\u001b[0;32m----> 1\u001b[0m confusion_matrix \u001b[38;5;241m=\u001b[39m \u001b[43mpd\u001b[49m\u001b[38;5;241;43m.\u001b[39;49m\u001b[43mcrosstab\u001b[49m\u001b[43m(\u001b[49m\u001b[43mY_test\u001b[49m\u001b[43m,\u001b[49m\u001b[43m \u001b[49m\u001b[43mcombined_df\u001b[49m\u001b[43m[\u001b[49m\u001b[38;5;124;43m'\u001b[39;49m\u001b[38;5;124;43mdisease\u001b[39;49m\u001b[38;5;124;43m'\u001b[39;49m\u001b[43m]\u001b[49m\u001b[38;5;241;43m.\u001b[39;49m\u001b[43mtolist\u001b[49m\u001b[43m(\u001b[49m\u001b[43m)\u001b[49m\u001b[43m,\u001b[49m\u001b[43m \u001b[49m\u001b[43mrownames\u001b[49m\u001b[38;5;241;43m=\u001b[39;49m\u001b[43m[\u001b[49m\n\u001b[1;32m      2\u001b[0m \u001b[43m                               \u001b[49m\u001b[38;5;124;43m'\u001b[39;49m\u001b[38;5;124;43mActual\u001b[39;49m\u001b[38;5;124;43m'\u001b[39;49m\u001b[43m]\u001b[49m\u001b[43m,\u001b[49m\u001b[43m \u001b[49m\u001b[43mcolnames\u001b[49m\u001b[38;5;241;43m=\u001b[39;49m\u001b[43m[\u001b[49m\u001b[38;5;124;43m'\u001b[39;49m\u001b[38;5;124;43mPredicted\u001b[39;49m\u001b[38;5;124;43m'\u001b[39;49m\u001b[43m]\u001b[49m\u001b[43m)\u001b[49m\n\u001b[1;32m      3\u001b[0m sn\u001b[38;5;241m.\u001b[39mheatmap(confusion_matrix, annot\u001b[38;5;241m=\u001b[39m\u001b[38;5;28;01mTrue\u001b[39;00m)\n",
      "File \u001b[0;32m/usr/lib64/python3.10/site-packages/pandas/core/reshape/pivot.py:638\u001b[0m, in \u001b[0;36mcrosstab\u001b[0;34m(index, columns, values, rownames, colnames, aggfunc, margins, margins_name, dropna, normalize)\u001b[0m\n\u001b[1;32m    635\u001b[0m     common_idx \u001b[38;5;241m=\u001b[39m get_objs_combined_axis(pass_objs, intersect\u001b[38;5;241m=\u001b[39m\u001b[38;5;28;01mTrue\u001b[39;00m, sort\u001b[38;5;241m=\u001b[39m\u001b[38;5;28;01mFalse\u001b[39;00m)\n\u001b[1;32m    637\u001b[0m rownames \u001b[38;5;241m=\u001b[39m _get_names(index, rownames, prefix\u001b[38;5;241m=\u001b[39m\u001b[38;5;124m\"\u001b[39m\u001b[38;5;124mrow\u001b[39m\u001b[38;5;124m\"\u001b[39m)\n\u001b[0;32m--> 638\u001b[0m colnames \u001b[38;5;241m=\u001b[39m \u001b[43m_get_names\u001b[49m\u001b[43m(\u001b[49m\u001b[43mcolumns\u001b[49m\u001b[43m,\u001b[49m\u001b[43m \u001b[49m\u001b[43mcolnames\u001b[49m\u001b[43m,\u001b[49m\u001b[43m \u001b[49m\u001b[43mprefix\u001b[49m\u001b[38;5;241;43m=\u001b[39;49m\u001b[38;5;124;43m\"\u001b[39;49m\u001b[38;5;124;43mcol\u001b[39;49m\u001b[38;5;124;43m\"\u001b[39;49m\u001b[43m)\u001b[49m\n\u001b[1;32m    640\u001b[0m \u001b[38;5;66;03m# duplicate names mapped to unique names for pivot op\u001b[39;00m\n\u001b[1;32m    641\u001b[0m (\n\u001b[1;32m    642\u001b[0m     rownames_mapper,\n\u001b[1;32m    643\u001b[0m     unique_rownames,\n\u001b[1;32m    644\u001b[0m     colnames_mapper,\n\u001b[1;32m    645\u001b[0m     unique_colnames,\n\u001b[1;32m    646\u001b[0m ) \u001b[38;5;241m=\u001b[39m _build_names_mapper(rownames, colnames)\n",
      "File \u001b[0;32m/usr/lib64/python3.10/site-packages/pandas/core/reshape/pivot.py:775\u001b[0m, in \u001b[0;36m_get_names\u001b[0;34m(arrs, names, prefix)\u001b[0m\n\u001b[1;32m    773\u001b[0m \u001b[38;5;28;01melse\u001b[39;00m:\n\u001b[1;32m    774\u001b[0m     \u001b[38;5;28;01mif\u001b[39;00m \u001b[38;5;28mlen\u001b[39m(names) \u001b[38;5;241m!=\u001b[39m \u001b[38;5;28mlen\u001b[39m(arrs):\n\u001b[0;32m--> 775\u001b[0m         \u001b[38;5;28;01mraise\u001b[39;00m \u001b[38;5;167;01mAssertionError\u001b[39;00m(\u001b[38;5;124m\"\u001b[39m\u001b[38;5;124marrays and names must have the same length\u001b[39m\u001b[38;5;124m\"\u001b[39m)\n\u001b[1;32m    776\u001b[0m     \u001b[38;5;28;01mif\u001b[39;00m \u001b[38;5;129;01mnot\u001b[39;00m \u001b[38;5;28misinstance\u001b[39m(names, \u001b[38;5;28mlist\u001b[39m):\n\u001b[1;32m    777\u001b[0m         names \u001b[38;5;241m=\u001b[39m \u001b[38;5;28mlist\u001b[39m(names)\n",
      "\u001b[0;31mAssertionError\u001b[0m: arrays and names must have the same length"
     ]
    }
   ],
   "source": [
    "confusion_matrix = pd.crosstab(Y_test, combined_df['disease'].tolist(), rownames=[\n",
    "                               'Actual'], colnames=['Predicted'])\n",
    "sn.heatmap(confusion_matrix, annot=True)"
   ]
  }
 ],
 "metadata": {
  "colab": {
   "name": "Untitled0.ipynb",
   "provenance": []
  },
  "kernelspec": {
   "display_name": "Python 3 (ipykernel)",
   "language": "python",
   "name": "python3"
  },
  "language_info": {
   "codemirror_mode": {
    "name": "ipython",
    "version": 3
   },
   "file_extension": ".py",
   "mimetype": "text/x-python",
   "name": "python",
   "nbconvert_exporter": "python",
   "pygments_lexer": "ipython3",
   "version": "3.10.0"
  }
 },
 "nbformat": 4,
 "nbformat_minor": 1
}
