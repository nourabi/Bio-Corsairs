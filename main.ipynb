{
  "cells": [
    {
      "cell_type": "code",
      "execution_count": 7,
      "metadata": {
        "colab": {
          "base_uri": "https://localhost:8080/"
        },
        "id": "Xf6_oMFZInZj",
        "outputId": "01aad12a-9775-45d5-d9b2-d36676977e83"
      },
      "outputs": [
        {
          "name": "stdout",
          "output_type": "stream",
          "text": [
            "Drive already mounted at /content/drive; to attempt to forcibly remount, call drive.mount(\"/content/drive\", force_remount=True).\n"
          ]
        }
      ],
      "source": [
        "import pandas as pd\n",
        "from google.colab import drive\n",
        "\n",
        "drive.mount('/content/drive')\n",
        "path = '/content/drive/My Drive/Bio-Corsairs/'"
      ]
    },
    {
      "cell_type": "code",
      "execution_count": 8,
      "metadata": {
        "colab": {
          "base_uri": "https://localhost:8080/"
        },
        "id": "aoeJOQ7OIr5G",
        "outputId": "92ba043a-dbec-404f-f8e4-2a3eafc3e376"
      },
      "outputs": [
        {
          "name": "stdout",
          "output_type": "stream",
          "text": [
            "  Unnamed: 0  Bacteria-1  Bacteria-2  Bacteria-3  Bacteria-4  Bacteria-5  \\\n",
            "0   Sample-1         0.0         0.0         0.0         0.0         0.0   \n",
            "1   Sample-2         0.0         0.0         0.0         0.0         0.0   \n",
            "2   Sample-3         0.0        10.0         0.0         0.0         0.0   \n",
            "3   Sample-4         0.0        17.0         0.0         0.0         0.0   \n",
            "4   Sample-5         0.0         8.0         0.0         0.0         0.0   \n",
            "\n",
            "   Bacteria-6  Bacteria-7  Bacteria-8  Bacteria-9  ...  Bacteria-1086  \\\n",
            "0         0.0         0.0         0.0         0.0  ...            0.0   \n",
            "1         0.0         0.0         0.0         0.0  ...            0.0   \n",
            "2         0.0         0.0         0.0         0.0  ...            0.0   \n",
            "3         0.0         0.0         0.0         0.0  ...            0.0   \n",
            "4         0.0         0.0         0.0         0.0  ...            0.0   \n",
            "\n",
            "   Bacteria-1087  Bacteria-1088  Bacteria-1089  Bacteria-1090  Bacteria-1091  \\\n",
            "0            0.0            0.0            0.0            0.0            0.0   \n",
            "1        17111.0            0.0            0.0            0.0            0.0   \n",
            "2          214.0            0.0            0.0            0.0            0.0   \n",
            "3            0.0            0.0            0.0            0.0            0.0   \n",
            "4         1932.0            0.0            0.0            0.0            0.0   \n",
            "\n",
            "   Bacteria-1092  Bacteria-1093  Bacteria-1094    disease  \n",
            "0            0.0            0.0            0.0  Disease-2  \n",
            "1            0.0            0.0            0.0  Disease-2  \n",
            "2            0.0            0.0            0.0  Disease-2  \n",
            "3            0.0            0.0            0.0  Disease-2  \n",
            "4            0.0            3.0            0.0  Disease-2  \n",
            "\n",
            "[5 rows x 1096 columns]\n"
          ]
        }
      ],
      "source": [
        "features = pd.read_csv(path + 'challenge_1_gut_microbiome_data.csv')\n",
        "print(features.head(5))"
      ]
    }
  ],
  "metadata": {
    "colab": {
      "name": "Untitled0.ipynb",
      "provenance": []
    },
    "kernelspec": {
      "display_name": "Python 3",
      "name": "python3"
    },
    "language_info": {
      "name": "python"
    }
  },
  "nbformat": 4,
  "nbformat_minor": 0
}
