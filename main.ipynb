{
 "cells": [
  {
   "cell_type": "code",
   "execution_count": 1,
   "metadata": {
    "colab": {
     "base_uri": "https://localhost:8080/"
    },
    "id": "Xf6_oMFZInZj",
    "outputId": "01aad12a-9775-45d5-d9b2-d36676977e83"
   },
   "outputs": [],
   "source": [
    "#!/usr/bin/env python\n",
    "# -*- coding: utf-8 -*-\n",
    "\"\"\"Pharmahacks - Phyla Challenge #2\"\"\"\n",
    "\n",
    "import pandas as pd\n",
    "from sklearn.model_selection import train_test_split\n",
    "from sklearn.ensemble import RandomForestClassifier\n",
    "from sklearn import metrics\n",
    "import seaborn as sn"
   ]
  },
  {
   "cell_type": "code",
   "execution_count": 2,
   "metadata": {
    "colab": {
     "base_uri": "https://localhost:8080/"
    },
    "id": "aoeJOQ7OIr5G",
    "outputId": "92ba043a-dbec-404f-f8e4-2a3eafc3e376"
   },
   "outputs": [
    {
     "name": "stdout",
     "output_type": "stream",
     "text": [
      "          Bacteria-1  Bacteria-2  Bacteria-3  Bacteria-4  Bacteria-5  \\\n",
      "Sample-1         0.0         0.0         0.0         0.0         0.0   \n",
      "Sample-2         0.0         0.0         0.0         0.0         0.0   \n",
      "Sample-3         0.0        10.0         0.0         0.0         0.0   \n",
      "Sample-4         0.0        17.0         0.0         0.0         0.0   \n",
      "Sample-5         0.0         8.0         0.0         0.0         0.0   \n",
      "\n",
      "          Bacteria-6  Bacteria-7  Bacteria-8  Bacteria-9  Bacteria-10  ...  \\\n",
      "Sample-1         0.0         0.0         0.0         0.0          0.0  ...   \n",
      "Sample-2         0.0         0.0         0.0         0.0          0.0  ...   \n",
      "Sample-3         0.0         0.0         0.0         0.0          0.0  ...   \n",
      "Sample-4         0.0         0.0         0.0         0.0          0.0  ...   \n",
      "Sample-5         0.0         0.0         0.0         0.0          0.0  ...   \n",
      "\n",
      "          Bacteria-1086  Bacteria-1087  Bacteria-1088  Bacteria-1089  \\\n",
      "Sample-1            0.0            0.0            0.0            0.0   \n",
      "Sample-2            0.0        17111.0            0.0            0.0   \n",
      "Sample-3            0.0          214.0            0.0            0.0   \n",
      "Sample-4            0.0            0.0            0.0            0.0   \n",
      "Sample-5            0.0         1932.0            0.0            0.0   \n",
      "\n",
      "          Bacteria-1090  Bacteria-1091  Bacteria-1092  Bacteria-1093  \\\n",
      "Sample-1            0.0            0.0            0.0            0.0   \n",
      "Sample-2            0.0            0.0            0.0            0.0   \n",
      "Sample-3            0.0            0.0            0.0            0.0   \n",
      "Sample-4            0.0            0.0            0.0            0.0   \n",
      "Sample-5            0.0            0.0            0.0            3.0   \n",
      "\n",
      "          Bacteria-1094    disease  \n",
      "Sample-1            0.0  Disease-2  \n",
      "Sample-2            0.0  Disease-2  \n",
      "Sample-3            0.0  Disease-2  \n",
      "Sample-4            0.0  Disease-2  \n",
      "Sample-5            0.0  Disease-2  \n",
      "\n",
      "[5 rows x 1095 columns]\n"
     ]
    }
   ],
   "source": [
    "# Import dataset\n",
    "df = pd.read_csv('challenge_1_gut_microbiome_data.csv', index_col=0)\n",
    "print(df.head(5))"
   ]
  },
  {
   "cell_type": "code",
   "execution_count": 3,
   "metadata": {},
   "outputs": [],
   "source": [
    "# Features\n",
    "X = df.filter(regex=(\"Bacteria-*\"))\n",
    "# Labels\n",
    "Y = df['disease']"
   ]
  },
  {
   "cell_type": "code",
   "execution_count": 4,
   "metadata": {},
   "outputs": [],
   "source": [
    "# 25% of the dataset is used for testing\n",
    "X_train, X_test, Y_train, Y_test = train_test_split(\n",
    "    X, Y, test_size=0.25, random_state=0)"
   ]
  },
  {
   "cell_type": "code",
   "execution_count": 5,
   "metadata": {},
   "outputs": [],
   "source": [
    "# Random Forest Classifier - Training\n",
    "clf = RandomForestClassifier(n_estimators=100)\n",
    "clf.fit(X_train, Y_train)\n",
    "# Predictions\n",
    "Y_pred = clf.predict(X_test)"
   ]
  },
  {
   "cell_type": "code",
   "execution_count": 6,
   "metadata": {},
   "outputs": [
    {
     "data": {
      "text/plain": [
       "<AxesSubplot:xlabel='Predicted', ylabel='Actual'>"
      ]
     },
     "execution_count": 6,
     "metadata": {},
     "output_type": "execute_result"
    },
    {
     "data": {
      "image/png": "[encoded data removed]",
      "text/plain": [
       "<Figure size 432x288 with 2 Axes>"
      ]
     },
     "metadata": {
      "needs_background": "light"
     },
     "output_type": "display_data"
    }
   ],
   "source": [
    "# Produces the confusion matrix' heatmap\n",
    "confusion_matrix = pd.crosstab(Y_test, Y_pred, rownames=[\n",
    "                               'Actual'], colnames=['Predicted'])\n",
    "sn.heatmap(confusion_matrix, annot=True)"
   ]
  },
  {
   "cell_type": "code",
   "execution_count": 7,
   "metadata": {},
   "outputs": [
    {
     "name": "stdout",
     "output_type": "stream",
     "text": [
      "F1 Score - Micro:  0.780331373597007\n",
      "F1 Score - Macro:  0.5981815091402464\n",
      "F1 Score - Weighted:  0.7443181899051569\n",
      "Cohen’s kappa score:  0.6355790715803891\n"
     ]
    }
   ],
   "source": [
    "# Performance\n",
    "print('F1 Score - Micro: ', metrics.accuracy_score(Y_test, Y_pred))\n",
    "print('F1 Score - Macro: ', metrics.f1_score(Y_test, Y_pred, average='macro'))\n",
    "print('F1 Score - Weighted: ', metrics.f1_score(Y_test, Y_pred, average='weighted'))\n",
    "print('Cohen’s kappa score: ', metrics.cohen_kappa_score(Y_test, Y_pred))"
   ]
  },
  {
   "cell_type": "code",
   "execution_count": 8,
   "metadata": {},
   "outputs": [
    {
     "name": "stdout",
     "output_type": "stream",
     "text": [
      "['Disease-1']\n",
      "[[0.76 0.   0.09 0.15]]\n"
     ]
    }
   ],
   "source": [
    "# EXAMPLE: Prediction\n",
    "\n",
    "# Sample 3602 - Disease-1\n",
    "sample = X.loc[[\"Sample-3602\"]]\n",
    "sample_predict = clf.predict(sample)\n",
    "sample_predict_proba = clf.predict_proba(sample)\n",
    "\n",
    "print(sample_predict)\n",
    "print(sample_predict_proba)"
   ]
  },
  {
   "cell_type": "code",
   "execution_count": null,
   "metadata": {},
   "outputs": [],
   "source": []
  }
 ],
 "metadata": {
  "colab": {
   "name": "Untitled0.ipynb",
   "provenance": []
  },
  "kernelspec": {
   "display_name": "Python 3 (ipykernel)",
   "language": "python",
   "name": "python3"
  },
  "language_info": {
   "codemirror_mode": {
    "name": "ipython",
    "version": 3
   },
   "file_extension": ".py",
   "mimetype": "text/x-python",
   "name": "python",
   "nbconvert_exporter": "python",
   "pygments_lexer": "ipython3",
   "version": "3.10.0"
  }
 },
 "nbformat": 4,
 "nbformat_minor": 1
}
